{
 "nbformat": 4,
 "nbformat_minor": 0,
 "metadata": {
  "colab": {
   "name": "Untitled6.ipynb",
   "provenance": []
  },
  "kernelspec": {
   "name": "python3",
   "display_name": "Python 3"
  },
  "language_info": {
   "name": "python"
  }
 },
 "cells": [
  {
   "cell_type": "code",
   "execution_count": 2,
   "metadata": {
    "id": "_0XuqNyMUPzB"
   },
   "outputs": [],
   "source": [
    "import os\n",
    "import zipfile\n",
    "from zipfile import ZipFile\n",
    "import requests"
   ]
  },
  {
   "cell_type": "code",
   "source": [
    "def download_file_from_google_drive(id, destination):\n",
    "    URL = \"https://docs.google.com/uc?export=download\"\n",
    "    session = requests.Session()\n",
    "    response = session.get(URL, params = { 'id' : id }, stream = True)\n",
    "    token = get_confirm_token(response)\n",
    "    if token:\n",
    "        params = {'id': id, 'confirm': token}\n",
    "        response = session.get(URL, params = params, stream = True)\n",
    "    save_response_content(response, destination)\n",
    "    unpack_and_remove(destination)\n",
    "\n",
    "def get_confirm_token(response):\n",
    "    for key, value in response.cookies.items():\n",
    "        if key.startswith('download_warning'):\n",
    "            return value\n",
    "    return None\n",
    "\n",
    "def save_response_content(response, destination):\n",
    "    chunk_size = 32768\n",
    "    with open(destination, \"wb\") as f:\n",
    "        for chunk in response.iter_content(chunk_size):\n",
    "            if chunk:\n",
    "                f.write(chunk)\n",
    "    \n",
    "def unpack_and_remove(destination):\n",
    "    file_content = zipfile.ZipFile(destination)\n",
    "    file_content.extractall()\n",
    "    file_content.close()\n",
    "    os.remove(destination)\n",
    "    \n",
    "file_id = '1QAYvLQUTsgcoqYdjpzlgHYxcqWrlw_Ht'\n",
    "destination = './all_model_files.zip'\n",
    "download_file_from_google_drive(file_id, destination)"
   ],
   "metadata": {
    "id": "iIoP9LISUQoQ"
   },
   "execution_count": 3,
   "outputs": []
  },
  {
   "cell_type": "code",
   "source": [
    ""
   ],
   "metadata": {
    "id": "ugxZJSNwpJ_7"
   },
   "execution_count": null,
   "outputs": []
  }
 ]
}